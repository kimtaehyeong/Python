{
 "cells": [
  {
   "cell_type": "markdown",
   "metadata": {},
   "source": [
    "# 정규표현식 (regular expression)  <br><br>\n",
    "\n",
    "### 정규표현식은 'regex' 표현하기도 하며, 특정한 규칙을 가진 문자열을 집합을 표현하는 데 사용하는 형식 언어이다. 그래서 python 뿐만아니라 모든 언어에서 정규표현식을 지원하며, 언어별로 큰 틀은 비슷하지만 조금씩 사용방법이 달라 이참에 간단하게 python을 이용하여 정리하였다.<br>\n",
    "\n",
    "#### 나는 기본적으로 데이터 크롤링과정이나 json포맷을 뭔가 전처리를 하고 싶을때 이용하는 편이고, 특히 문자열을 다룰때 정말 유용한거 같다.\n",
    "\n"
   ]
  },
  {
   "cell_type": "code",
   "execution_count": null,
   "metadata": {},
   "outputs": [],
   "source": []
  },
  {
   "cell_type": "code",
   "execution_count": 1,
   "metadata": {},
   "outputs": [],
   "source": [
    "import re\n",
    "r = re.compile(\"[ab]\") #a 또는 b 문자를 포함하는가?  "
   ]
  },
  {
   "cell_type": "code",
   "execution_count": 2,
   "metadata": {},
   "outputs": [
    {
     "name": "stdout",
     "output_type": "stream",
     "text": [
      "<_sre.SRE_Match object; span=(1, 2), match='a'>\n"
     ]
    }
   ],
   "source": [
    "print ( r.search(\"hamburger\"))  # 문자열 전체에서 찾음 "
   ]
  },
  {
   "cell_type": "code",
   "execution_count": 3,
   "metadata": {},
   "outputs": [
    {
     "name": "stdout",
     "output_type": "stream",
     "text": [
      "None\n"
     ]
    }
   ],
   "source": [
    "print (r.match(\"hamburger\"))  # 문자열의 처음만 비교 "
   ]
  },
  {
   "cell_type": "code",
   "execution_count": 4,
   "metadata": {},
   "outputs": [],
   "source": [
    "r = re.compile(\"[pP]\")  #p 또는 P 문자를 포함하는가? "
   ]
  },
  {
   "cell_type": "code",
   "execution_count": 3,
   "metadata": {},
   "outputs": [
    {
     "name": "stdout",
     "output_type": "stream",
     "text": [
      "<_sre.SRE_Match object; span=(5, 6), match='a'>\n"
     ]
    }
   ],
   "source": [
    "print (r.search(\"pine apple\")) # 문자열 전체에서 찾음"
   ]
  },
  {
   "cell_type": "code",
   "execution_count": 4,
   "metadata": {},
   "outputs": [
    {
     "name": "stdout",
     "output_type": "stream",
     "text": [
      "None\n"
     ]
    }
   ],
   "source": [
    "print (r.match(\"pine apple\")) # 문자열의 처음만 비교 "
   ]
  },
  {
   "cell_type": "code",
   "execution_count": 5,
   "metadata": {},
   "outputs": [
    {
     "name": "stdout",
     "output_type": "stream",
     "text": [
      "None\n"
     ]
    }
   ],
   "source": [
    "print(r.match(\"pP\")) # 문자열의 처음만 비교 "
   ]
  },
  {
   "cell_type": "code",
   "execution_count": 6,
   "metadata": {},
   "outputs": [
    {
     "name": "stdout",
     "output_type": "stream",
     "text": [
      "<_sre.SRE_Match object; span=(0, 1), match='p'>\n"
     ]
    }
   ],
   "source": [
    "print ( re.search(\"[pP]\",\"pine apple\")   ) "
   ]
  },
  {
   "cell_type": "code",
   "execution_count": 7,
   "metadata": {},
   "outputs": [],
   "source": [
    "r = re.compile(\"a.c\")   #  .   -->   임의의 한문자   \n",
    "                        #즉, a문자뒤 임의의 한문자, 그 뒤 c가 있는 것"
   ]
  },
  {
   "cell_type": "code",
   "execution_count": 8,
   "metadata": {},
   "outputs": [
    {
     "name": "stdout",
     "output_type": "stream",
     "text": [
      "<_sre.SRE_Match object; span=(0, 3), match='abc'>\n"
     ]
    }
   ],
   "source": [
    "print (  r.search(\"abc\")) "
   ]
  },
  {
   "cell_type": "code",
   "execution_count": 9,
   "metadata": {},
   "outputs": [
    {
     "name": "stdout",
     "output_type": "stream",
     "text": [
      "<_sre.SRE_Match object; span=(0, 3), match='afc'>\n"
     ]
    }
   ],
   "source": [
    "print (  r.search(\"afc\")) "
   ]
  },
  {
   "cell_type": "code",
   "execution_count": 10,
   "metadata": {},
   "outputs": [
    {
     "name": "stdout",
     "output_type": "stream",
     "text": [
      "None\n"
     ]
    }
   ],
   "source": [
    "print (  r.search(\"ac\"))"
   ]
  },
  {
   "cell_type": "code",
   "execution_count": 11,
   "metadata": {},
   "outputs": [
    {
     "name": "stdout",
     "output_type": "stream",
     "text": [
      "<_sre.SRE_Match object; span=(0, 2), match='cw'>\n"
     ]
    }
   ],
   "source": [
    "r = re.compile(\"ck?w\")  #  ?   -->  바로 앞글자가 0개 또는 1개 인 것 \n",
    "print (r.search(\"cw\"))"
   ]
  },
  {
   "cell_type": "code",
   "execution_count": 12,
   "metadata": {},
   "outputs": [
    {
     "name": "stdout",
     "output_type": "stream",
     "text": [
      "<_sre.SRE_Match object; span=(0, 3), match='ckw'>\n",
      "None\n",
      "None\n"
     ]
    }
   ],
   "source": [
    "print (r.search(\"ckw\"))  \n",
    "print (r.search(\"ckkw\"))  \n",
    "print (r.search(\"kkw\"))  "
   ]
  },
  {
   "cell_type": "code",
   "execution_count": 13,
   "metadata": {},
   "outputs": [
    {
     "name": "stdout",
     "output_type": "stream",
     "text": [
      "<_sre.SRE_Match object; span=(0, 3), match='ckw'>\n",
      "<_sre.SRE_Match object; span=(0, 7), match='ckkkkkw'>\n",
      "None\n",
      "None\n"
     ]
    }
   ],
   "source": [
    "r = re.compile(\"ck+w\")  #  +   -->  바로 앞글자가 1개이상 인 것 \n",
    "print(r.search(\"ckw\")) # <_sre.SRE_Match object; span=(0, 3), match='ckw'>\n",
    "print(r.search(\"ckkkkkw\")) # <_sre.SRE_Match object; span=(0, 7), match='ckkkkkw'>\n",
    "print(r.search(\"ckkk\")) # None\n",
    "print(r.search(\"cw\")) # None"
   ]
  },
  {
   "cell_type": "code",
   "execution_count": 14,
   "metadata": {},
   "outputs": [
    {
     "name": "stdout",
     "output_type": "stream",
     "text": [
      "<_sre.SRE_Match object; span=(0, 1), match='c'>\n",
      "None\n"
     ]
    }
   ],
   "source": [
    "r = re.compile(\"^c\")    #  ^   --> 문장의 시작의미. c글자로 시작되는 문자열 \n",
    "print (r.search(\"ckw\"))\n",
    "print(r.search(\"sjc\"))"
   ]
  },
  {
   "cell_type": "code",
   "execution_count": 15,
   "metadata": {},
   "outputs": [
    {
     "name": "stdout",
     "output_type": "stream",
     "text": [
      "<_sre.SRE_Match object; span=(4, 5), match='e'>\n",
      "None\n"
     ]
    }
   ],
   "source": [
    "r = re.compile(\"e$\")   #  $   -->  문장의 끝 의미.  e글자로 끝나는 문자열\n",
    "print(r.search(\"apple\"))\n",
    "print(r.search(\"banana\"))"
   ]
  },
  {
   "cell_type": "code",
   "execution_count": 16,
   "metadata": {},
   "outputs": [
    {
     "name": "stdout",
     "output_type": "stream",
     "text": [
      "<_sre.SRE_Match object; span=(4, 5), match='a'>\n",
      "<_sre.SRE_Match object; span=(0, 1), match='b'>\n",
      "<_sre.SRE_Match object; span=(1, 2), match='a'>\n"
     ]
    }
   ],
   "source": [
    "r = re.compile(\"[abcd]\") #a 또는 b 또는 c 또는 d 문자열을 포함하는가?\n",
    "print(r.search(\"pizza\"))\n",
    "print(r.search(\"banana\"))\n",
    "print(r.search(\"mashroom\"))"
   ]
  },
  {
   "cell_type": "code",
   "execution_count": 17,
   "metadata": {},
   "outputs": [
    {
     "name": "stdout",
     "output_type": "stream",
     "text": [
      "<_sre.SRE_Match object; span=(1, 2), match='p'>\n"
     ]
    }
   ],
   "source": [
    "print ( re.search(\"[^ab]\",\"apple\"))#[^]는 제외의미. a 또는 b를 제외한 문자열을 포함하는가? "
   ]
  },
  {
   "cell_type": "code",
   "execution_count": 18,
   "metadata": {},
   "outputs": [
    {
     "name": "stdout",
     "output_type": "stream",
     "text": [
      "<_sre.SRE_Match object; span=(0, 1), match='1'>\n"
     ]
    }
   ],
   "source": [
    "print  (re.search(\"[0-5]\", \"12345\")) # 0부터 5까지 문자열 중 하나를 함하는가?"
   ]
  },
  {
   "cell_type": "code",
   "execution_count": null,
   "metadata": {},
   "outputs": [],
   "source": []
  }
 ],
 "metadata": {
  "kernelspec": {
   "display_name": "Python 3",
   "language": "python",
   "name": "python3"
  },
  "language_info": {
   "codemirror_mode": {
    "name": "ipython",
    "version": 3
   },
   "file_extension": ".py",
   "mimetype": "text/x-python",
   "name": "python",
   "nbconvert_exporter": "python",
   "pygments_lexer": "ipython3",
   "version": "3.6.8"
  }
 },
 "nbformat": 4,
 "nbformat_minor": 2
}

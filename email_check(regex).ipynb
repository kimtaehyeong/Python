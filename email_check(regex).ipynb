{
 "cells": [
  {
   "cell_type": "code",
   "execution_count": 1,
   "metadata": {},
   "outputs": [
    {
     "name": "stdin",
     "output_type": "stream",
     "text": [
      "이메일을 입력하세요 asdfasdfasdf@gmail.com\n"
     ]
    }
   ],
   "source": [
    "import re\n",
    "\n",
    "email = input('이메일을 입력하세요')"
   ]
  },
  {
   "cell_type": "code",
   "execution_count": null,
   "metadata": {},
   "outputs": [],
   "source": []
  },
  {
   "cell_type": "code",
   "execution_count": 2,
   "metadata": {},
   "outputs": [
    {
     "name": "stdout",
     "output_type": "stream",
     "text": [
      "올바르게 입력하였습니다.\n"
     ]
    }
   ],
   "source": [
    "regex = re.compile('^[a-zA-Z0-9+-_.]+@[a-zA-Z0-9-]+\\.[a-zA-Z0-9-.]+$')\n",
    "if regex.match(email) != None:\n",
    "    print('올바르게 입력하였습니다.')\n",
    "else:\n",
    "    print('이메일 형식에 맞지 않습니다.')"
   ]
  },
  {
   "cell_type": "code",
   "execution_count": 3,
   "metadata": {},
   "outputs": [
    {
     "name": "stdout",
     "output_type": "stream",
     "text": [
      "올바르게 입력하였습니다.\n"
     ]
    }
   ],
   "source": [
    "z = re.compile('^[a-zA-Z0-9_-]+@[a-zA-Z0-9_-]+\\.[a-zA-Z.]+$')\n",
    "if z.search(email):\n",
    "    print('올바르게 입력하였습니다.')\n",
    "else:\n",
    "    print('이메일 형식에 맞지 않습니다.')\n"
   ]
  },
  {
   "cell_type": "code",
   "execution_count": null,
   "metadata": {},
   "outputs": [],
   "source": []
  }
 ],
 "metadata": {
  "kernelspec": {
   "display_name": "Python 3",
   "language": "python",
   "name": "python3"
  },
  "language_info": {
   "codemirror_mode": {
    "name": "ipython",
    "version": 3
   },
   "file_extension": ".py",
   "mimetype": "text/x-python",
   "name": "python",
   "nbconvert_exporter": "python",
   "pygments_lexer": "ipython3",
   "version": "3.6.8"
  }
 },
 "nbformat": 4,
 "nbformat_minor": 4
}

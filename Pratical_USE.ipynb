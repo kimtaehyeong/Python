{
 "cells": [
  {
   "cell_type": "code",
   "execution_count": 20,
   "metadata": {},
   "outputs": [
    {
     "name": "stdout",
     "output_type": "stream",
     "text": [
      "아무 숫자를 입력하세요 :2000030300000\n",
      "0000030300002\n",
      "2.000.030.300.000\n"
     ]
    }
   ],
   "source": [
    "#정수를 입력받고 천자리에 '.'를 표시하세요.\n",
    "\n",
    "num = input('아무 숫자를 입력하세요 :')\n",
    "num = num[::-1]\n",
    "print(num)\n",
    "ret = ''\n",
    "\n",
    "for i, c in enumerate(num):\n",
    "    i = i + 1 # 0부터시작하므로 1부터하기위해서 바꿔준다.\n",
    "    if i!=len(num) and i%3 ==0:\n",
    "        ret += c + '.'\n",
    "    else:\n",
    "        ret += c\n",
    "ret = ret[::-1]\n",
    "\n",
    "print(ret)\n"
   ]
  },
  {
   "cell_type": "code",
   "execution_count": 22,
   "metadata": {},
   "outputs": [
    {
     "name": "stdout",
     "output_type": "stream",
     "text": [
      "{'a': 7, 's': 7, 'd': 7, 'f': 1, 'v': 5, 'c': 1}\n"
     ]
    }
   ],
   "source": [
    "def getTextFreq(filename):\n",
    "    f = open(filename, 'r')\n",
    "    data = f.read()\n",
    "    ret = {}\n",
    "    \n",
    "    for i in data:\n",
    "        if i in ret:\n",
    "            ret[i] += 1\n",
    "        else:\n",
    "            ret[i] = 1\n",
    "    f.close()\n",
    "    return ret\n",
    "\n",
    "    \n",
    "ret = getTextFreq('mydata.txt')\n",
    "\n",
    "print(ret)"
   ]
  },
  {
   "cell_type": "code",
   "execution_count": 24,
   "metadata": {},
   "outputs": [
    {
     "name": "stdout",
     "output_type": "stream",
     "text": [
      "찾을 단어를 입력하세요:a\n",
      "변경할 단어를 입력하세요:b\n",
      "[a]를 [b]로 변경하였습니다.\n"
     ]
    }
   ],
   "source": [
    "f = open('mydata_1.txt', 'r')\n",
    "f1 = open('mydata_2.txt', 'w')\n",
    "data = f.readlines()\n",
    "\n",
    "t1 = input('찾을 단어를 입력하세요:')\n",
    "t2 = input('변경할 단어를 입력하세요:')\n",
    "for i in data:\n",
    "    i = i.replace(t1,t2)\n",
    "    f1.write(i)\n",
    "\n",
    "f.close()\n",
    "f1.close()\n",
    "\n",
    "print('[%s]를 [%s]로 변경하였습니다.'%(t1, t2))\n"
   ]
  },
  {
   "cell_type": "code",
   "execution_count": 27,
   "metadata": {},
   "outputs": [
    {
     "name": "stdout",
     "output_type": "stream",
     "text": [
      "찾고 싶은 단어를 입력하세요 :a\n",
      "찾고싶은 단어 [a]는 6 개 있습니다.\n"
     ]
    }
   ],
   "source": [
    "#파일에서 단어의 갯수를 출력하는 함수를 만드세요.\n",
    "\n",
    "def countWord(filename, word):\n",
    "    f = open(filename, 'r')\n",
    "    data = f.readlines()\n",
    "    count = 0\n",
    "    for i in data:\n",
    "        count += i.count(word)\n",
    "    f.close()\n",
    "    return count\n",
    "\n",
    "word = input(\"찾고 싶은 단어를 입력하세요 :\")\n",
    "ret = countWord('mydata_1.txt', word)\n",
    "print(\"찾고싶은 단어 [%s]는 %d 개 있습니다.\"%(word,ret))"
   ]
  },
  {
   "cell_type": "code",
   "execution_count": null,
   "metadata": {},
   "outputs": [],
   "source": []
  }
 ],
 "metadata": {
  "kernelspec": {
   "display_name": "Python 3",
   "language": "python",
   "name": "python3"
  },
  "language_info": {
   "codemirror_mode": {
    "name": "ipython",
    "version": 3
   },
   "file_extension": ".py",
   "mimetype": "text/x-python",
   "name": "python",
   "nbconvert_exporter": "python",
   "pygments_lexer": "ipython3",
   "version": "3.7.3"
  }
 },
 "nbformat": 4,
 "nbformat_minor": 2
}

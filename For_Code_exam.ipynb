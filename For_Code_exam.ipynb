{
 "cells": [
  {
   "cell_type": "markdown",
   "metadata": {},
   "source": [
    "## For_Sample_code"
   ]
  },
  {
   "cell_type": "code",
   "execution_count": 2,
   "metadata": {},
   "outputs": [
    {
     "name": "stdout",
     "output_type": "stream",
     "text": [
      "55\n",
      "55\n"
     ]
    }
   ],
   "source": [
    "# 1~10 합계\n",
    "a = 0 \n",
    "for i in range(1,11):\n",
    "    a += i\n",
    "print(a)\n",
    "\n",
    "a = 0\n",
    "k = 0\n",
    "while k<=10:\n",
    "    a += k\n",
    "    k += 1\n",
    "print(a)"
   ]
  },
  {
   "cell_type": "code",
   "execution_count": null,
   "metadata": {},
   "outputs": [],
   "source": []
  },
  {
   "cell_type": "code",
   "execution_count": 6,
   "metadata": {},
   "outputs": [
    {
     "name": "stdout",
     "output_type": "stream",
     "text": [
      "o\n",
      "u\n",
      "a\n",
      "i\n",
      "o\n",
      "a\n",
      "i\n",
      "i\n"
     ]
    }
   ],
   "source": [
    "# 'computational thinking'에서 모음만 출력\n",
    "cm = 'ccomputational thinking'\n",
    "for i in cm:\n",
    "    if i in ['a','e','i','o','u']:\n",
    "        print(i)"
   ]
  },
  {
   "cell_type": "code",
   "execution_count": null,
   "metadata": {},
   "outputs": [],
   "source": []
  },
  {
   "cell_type": "code",
   "execution_count": 8,
   "metadata": {},
   "outputs": [
    {
     "name": "stdout",
     "output_type": "stream",
     "text": [
      "[(0, 5), (0, 6), (0, 7), (0, 8), (0, 9), (0, 10), (1, 5), (1, 6), (1, 7), (1, 8), (1, 9), (1, 10), (2, 5), (2, 6), (2, 7), (2, 8), (2, 9), (2, 10), (3, 5), (3, 6), (3, 7), (3, 8), (3, 9), (3, 10), (4, 5), (4, 6), (4, 7), (4, 8), (4, 9), (4, 10)]\n"
     ]
    }
   ],
   "source": [
    "# list comprehenction\n",
    "x = [0,1,2,3,4]\n",
    "y = [5,6,7,8,9,10]\n",
    "print([(i,j) for i in x for j in y])"
   ]
  },
  {
   "cell_type": "code",
   "execution_count": 14,
   "metadata": {},
   "outputs": [
    {
     "name": "stdout",
     "output_type": "stream",
     "text": [
      "[0, 2, 4, 6, 8]\n"
     ]
    }
   ],
   "source": [
    "print([x for x in range(10) if x % 2 == 0])\n",
    "x = []\n",
    "for i in range(10):\n",
    "    if i % 2 == 0:\n",
    "        x.append(i)"
   ]
  },
  {
   "cell_type": "code",
   "execution_count": 15,
   "metadata": {},
   "outputs": [
    {
     "data": {
      "text/plain": [
       "[('BE', 'be', 2),\n",
       " ('AS', 'as', 2),\n",
       " ('PROUD', 'proud', 5),\n",
       " ('OF', 'of', 2),\n",
       " ('SOGANG', 'sogang', 6),\n",
       " ('AS', 'as', 2),\n",
       " ('SOGANG', 'sogang', 6),\n",
       " ('IS', 'is', 2),\n",
       " ('PROUD', 'proud', 5),\n",
       " ('OF', 'of', 2),\n",
       " ('YOU', 'you', 3)]"
      ]
     },
     "execution_count": 15,
     "metadata": {},
     "output_type": "execute_result"
    }
   ],
   "source": [
    "phrase = 'Be as proud of Sogang as Sogang is proud of you'\n",
    "[(word.upper(), word.lower(), len(word)) for word in phrase.split()]"
   ]
  },
  {
   "cell_type": "code",
   "execution_count": 18,
   "metadata": {},
   "outputs": [
    {
     "name": "stdout",
     "output_type": "stream",
     "text": [
      "[5, 6, 7]\n"
     ]
    }
   ],
   "source": [
    "# 1에서 10까지의 숫자에서 for 문과 continue와 break 활용\n",
    "# [5,6,7]\n",
    "a = []\n",
    "for i in range(1,11):\n",
    "    if i<5:\n",
    "        continue\n",
    "    elif i>7:\n",
    "        break\n",
    "    else:\n",
    "        a.append(i)\n",
    "print(a)"
   ]
  },
  {
   "cell_type": "code",
   "execution_count": 25,
   "metadata": {},
   "outputs": [
    {
     "name": "stdout",
     "output_type": "stream",
     "text": [
      "점수를 입력하세요:5\n",
      "점수를 입력하세요:5\n",
      "점수를 입력하세요:5\n",
      "점수를 입력하세요:5\n",
      "점수를 입력하세요:5\n",
      "Class average is : 5.0\n"
     ]
    }
   ],
   "source": [
    "# 5과목의 점수의 평균을 계산\n",
    "total = 0\n",
    "count = 1\n",
    "while count<=5:\n",
    "    subject = int(input('점수를 입력하세요:'))\n",
    "    total += subject\n",
    "    count +=1\n",
    "avrg = total / 5\n",
    "\n",
    "print('Class average is :',avrg)"
   ]
  },
  {
   "cell_type": "code",
   "execution_count": 30,
   "metadata": {},
   "outputs": [
    {
     "name": "stdout",
     "output_type": "stream",
     "text": [
      "Enter number: 5\n",
      "120\n",
      "5! is 120\n"
     ]
    }
   ],
   "source": [
    "# 팩토리얼 while문으로\n",
    "num = int(input('Enter number: '))\n",
    "result = 1\n",
    "cnt = num\n",
    "while cnt >1:\n",
    "    result *= cnt\n",
    "    cnt -= 1\n",
    "print(result)\n",
    "\n",
    "print(str(num) + \"! is \" + str(result))"
   ]
  },
  {
   "cell_type": "code",
   "execution_count": 32,
   "metadata": {},
   "outputs": [
    {
     "name": "stdout",
     "output_type": "stream",
     "text": [
      "1\n",
      "3\n",
      "5\n"
     ]
    }
   ],
   "source": [
    "#continue를 사용해서 홀수만 출력\n",
    "scope = [1,2,3,4,5]\n",
    "for i in scope:\n",
    "    if i % 2 == 0:\n",
    "        continue\n",
    "    print(i)"
   ]
  },
  {
   "cell_type": "code",
   "execution_count": 35,
   "metadata": {},
   "outputs": [
    {
     "name": "stdout",
     "output_type": "stream",
     "text": [
      "---->10\n",
      "n=10 : oddSum=25, evenSum=30\n"
     ]
    }
   ],
   "source": [
    "# 입력받은 수까지 홀수합, 짝수합\n",
    "n = int(input('---->'))\n",
    "oddsum = 0\n",
    "evensum = 0\n",
    "for i in range(n+1):\n",
    "    if i % 2 ==0:\n",
    "        evensum += i\n",
    "    else:\n",
    "        oddsum += i\n",
    "print(\"n=%d : oddSum=%d, evenSum=%d\" % (n,oddsum,evensum))\n",
    "#print(\"n={} : oddSum={}, evenSum={}\".format(n,oddsum,evensum))"
   ]
  },
  {
   "cell_type": "code",
   "execution_count": 37,
   "metadata": {},
   "outputs": [
    {
     "name": "stdout",
     "output_type": "stream",
     "text": [
      "Min = 100, Max = 60\n"
     ]
    }
   ],
   "source": [
    "# 최대값 최소값 구하기\n",
    "L = [70, 100, 80, 60, 90]\n",
    "nMin = nMax = L[0]\n",
    "# nMin = min(L)\n",
    "# nMax = max(L)\n",
    "\n",
    "\n",
    "for i in L:\n",
    "    if nMax >= i:\n",
    "        nMax = i\n",
    "    elif nMin <= i:\n",
    "        nMin = i\n",
    "print(\"Min = %d, Max = %d\" % (nMin, nMax))"
   ]
  },
  {
   "cell_type": "code",
   "execution_count": 41,
   "metadata": {},
   "outputs": [
    {
     "name": "stdout",
     "output_type": "stream",
     "text": [
      "1x1= 1 2x1= 2 3x1= 3 4x1= 4 5x1= 5 6x1= 6 7x1= 7 8x1= 8 9x1= 9\n",
      "1x2= 2 2x2= 4 3x2= 6 4x2= 8 5x2=10 6x2=12 7x2=14 8x2=16 9x2=18\n",
      "1x3= 3 2x3= 6 3x3= 9 4x3=12 5x3=15 6x3=18 7x3=21 8x3=24 9x3=27\n",
      "1x4= 4 2x4= 8 3x4=12 4x4=16 5x4=20 6x4=24 7x4=28 8x4=32 9x4=36\n",
      "1x5= 5 2x5=10 3x5=15 4x5=20 5x5=25 6x5=30 7x5=35 8x5=40 9x5=45\n",
      "1x6= 6 2x6=12 3x6=18 4x6=24 5x6=30 6x6=36 7x6=42 8x6=48 9x6=54\n",
      "1x7= 7 2x7=14 3x7=21 4x7=28 5x7=35 6x7=42 7x7=49 8x7=56 9x7=63\n",
      "1x8= 8 2x8=16 3x8=24 4x8=32 5x8=40 6x8=48 7x8=56 8x8=64 9x8=72\n",
      "1x9= 9 2x9=18 3x9=27 4x9=36 5x9=45 6x9=54 7x9=63 8x9=72 9x9=81\n"
     ]
    }
   ],
   "source": [
    "# 구구단 출력\n",
    "\"\"\"\n",
    "for i in range(1, 10):\n",
    "    for j in range(1, 10):\n",
    "        print(\"{}x{}={:>2}\".format(j,i,i*j), end=' ')\n",
    "\"\"\"       \n",
    "for i in range(1, 10):\n",
    "    for j in range(1, 10):\n",
    "        if j == 9:\n",
    "            print(\"{}x{}={:>2}\".format(j,i,i*j))\n",
    "        else:\n",
    "            print(\"{}x{}={:>2}\".format(j,i,i*j), end=' ')"
   ]
  },
  {
   "cell_type": "code",
   "execution_count": 9,
   "metadata": {},
   "outputs": [
    {
     "name": "stdout",
     "output_type": "stream",
     "text": [
      "2이상의 양의 정수입력해 ㅠㅠ---> 7\n",
      "소수입니다\n"
     ]
    }
   ],
   "source": [
    "# 받은 수가 소수인지 판별하기\n",
    "n = int(input('2이상의 양의 정수입력해 ㅠㅠ---> '))\n",
    "\n",
    "check = True\n",
    "if n == 1:\n",
    "    check = False\n",
    "for i in range(2,n):\n",
    "    if n%i == 0:\n",
    "        check = False\n",
    "        break\n",
    "if check or n==2:\n",
    "    print(\"소수입니다\")\n",
    "else:\n",
    "    print(\"소수가 아닙니다\")\n",
    "\n"
   ]
  },
  {
   "cell_type": "code",
   "execution_count": 9,
   "metadata": {},
   "outputs": [
    {
     "name": "stdout",
     "output_type": "stream",
     "text": [
      "*\n",
      "**\n",
      "***\n",
      "****\n",
      "*****\n",
      "******\n",
      "*******\n",
      "********\n",
      "*********\n"
     ]
    }
   ],
   "source": [
    "for i in range(1,10):\n",
    "    print('*' * i)"
   ]
  },
  {
   "cell_type": "code",
   "execution_count": 11,
   "metadata": {},
   "outputs": [
    {
     "name": "stdout",
     "output_type": "stream",
     "text": [
      "**********\n",
      "*********\n",
      "********\n",
      "*******\n",
      "******\n",
      "*****\n",
      "****\n",
      "***\n",
      "**\n",
      "*\n"
     ]
    }
   ],
   "source": [
    "for i in range(10,0,-1):\n",
    "    print('*' * i)"
   ]
  },
  {
   "cell_type": "code",
   "execution_count": 12,
   "metadata": {},
   "outputs": [
    {
     "name": "stdout",
     "output_type": "stream",
     "text": [
      " **********\n",
      "  *********\n",
      "   ********\n",
      "    *******\n",
      "     ******\n",
      "      *****\n",
      "       ****\n",
      "        ***\n",
      "         **\n",
      "          *\n"
     ]
    }
   ],
   "source": [
    "for i in range(10):\n",
    "    print(' '*i, '*'*(10-i))"
   ]
  },
  {
   "cell_type": "code",
   "execution_count": 18,
   "metadata": {},
   "outputs": [
    {
     "name": "stdout",
     "output_type": "stream",
     "text": [
      "    *     \n",
      "   ***    \n",
      "  *****   \n",
      " *******  \n",
      "********* \n"
     ]
    }
   ],
   "source": [
    "for i in range(1,10,2):\n",
    "    print('{:^10}'.format('*'*i))   # ^ 가운데정렬 >오른쪽정렬 < 왼쪽정렬 10 10칸을 잡아놓기"
   ]
  },
  {
   "cell_type": "code",
   "execution_count": null,
   "metadata": {},
   "outputs": [],
   "source": []
  }
 ],
 "metadata": {
  "kernelspec": {
   "display_name": "Python 3",
   "language": "python",
   "name": "python3"
  },
  "language_info": {
   "codemirror_mode": {
    "name": "ipython",
    "version": 3
   },
   "file_extension": ".py",
   "mimetype": "text/x-python",
   "name": "python",
   "nbconvert_exporter": "python",
   "pygments_lexer": "ipython3",
   "version": "3.6.8"
  }
 },
 "nbformat": 4,
 "nbformat_minor": 2
}

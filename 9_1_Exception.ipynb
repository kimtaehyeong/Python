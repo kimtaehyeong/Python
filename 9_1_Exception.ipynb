{
 "cells": [
  {
   "cell_type": "code",
   "execution_count": null,
   "metadata": {},
   "outputs": [],
   "source": []
  },
  {
   "cell_type": "markdown",
   "metadata": {},
   "source": [
    "## 예외(Exception)\n",
    "<br>\n",
    "- 구문 에러가 없이 잘 작성된 코드라도 실행 도중에 에러가 발생할 수 있다. 이러한 잠재적인 에어를 '예외'라고 한다.\n",
    "<br><br>\n",
    "\n",
    "try :<br>\n",
    "< 예외 발생 가능성이 있는 문장 ><br>\n",
    "except < 예외 종류 > :<br>\n",
    "< 예외 처리 문장 ><br>\n",
    "except < 예외 종류 > :<br>\n",
    "< 예외 처리 문장 ><br>\n",
    "else :<br>\n",
    "< 예외가 발생하지 않은 경우, 수행할 문장 ><br>\n",
    "finally :<br>\n",
    "< 예외 발생 유무에 상관없이 try 블록 이후 수행할 문장 ><br>"
   ]
  },
  {
   "cell_type": "code",
   "execution_count": 13,
   "metadata": {},
   "outputs": [
    {
     "name": "stdout",
     "output_type": "stream",
     "text": [
      "hello world\n"
     ]
    },
    {
     "ename": "NameError",
     "evalue": "name 'param' is not defined",
     "output_type": "error",
     "traceback": [
      "\u001b[1;31m---------------------------------------------------------------------------\u001b[0m",
      "\u001b[1;31mNameError\u001b[0m                                 Traceback (most recent call last)",
      "\u001b[1;32m<ipython-input-13-b70863e79394>\u001b[0m in \u001b[0;36m<module>\u001b[1;34m\u001b[0m\n\u001b[0;32m      1\u001b[0m \u001b[0mprint\u001b[0m\u001b[1;33m(\u001b[0m\u001b[1;34m'hello world'\u001b[0m\u001b[1;33m)\u001b[0m\u001b[1;33m\u001b[0m\u001b[1;33m\u001b[0m\u001b[0m\n\u001b[1;32m----> 2\u001b[1;33m \u001b[0mprint\u001b[0m\u001b[1;33m(\u001b[0m\u001b[0mparam\u001b[0m\u001b[1;33m)\u001b[0m\u001b[1;33m\u001b[0m\u001b[1;33m\u001b[0m\u001b[0m\n\u001b[0m\u001b[0;32m      3\u001b[0m \u001b[0mprint\u001b[0m\u001b[1;33m(\u001b[0m\u001b[1;34m'hello python'\u001b[0m\u001b[1;33m)\u001b[0m\u001b[1;33m\u001b[0m\u001b[1;33m\u001b[0m\u001b[0m\n",
      "\u001b[1;31mNameError\u001b[0m: name 'param' is not defined"
     ]
    }
   ],
   "source": [
    "print('hello world')\n",
    "print(param)\n",
    "print('hello python')"
   ]
  },
  {
   "cell_type": "code",
   "execution_count": 14,
   "metadata": {},
   "outputs": [
    {
     "name": "stdout",
     "output_type": "stream",
     "text": [
      "hello world\n",
      "hello python\n"
     ]
    }
   ],
   "source": [
    "try:\n",
    "    print('hello world')\n",
    "    print(param)\n",
    "except:\n",
    "    print('hello python')"
   ]
  },
  {
   "cell_type": "code",
   "execution_count": 15,
   "metadata": {},
   "outputs": [
    {
     "name": "stdout",
     "output_type": "stream",
     "text": [
      "hello world.\n",
      "exception occurred\n",
      "hello python\n"
     ]
    }
   ],
   "source": [
    "try:\n",
    "    print('hello world.')\n",
    "    print(param)\n",
    "except:\n",
    "    print('exception occurred')\n",
    "    print('hello python')"
   ]
  },
  {
   "cell_type": "code",
   "execution_count": 16,
   "metadata": {},
   "outputs": [
    {
     "name": "stdout",
     "output_type": "stream",
     "text": [
      "hello world.\n",
      "exception occurred\n"
     ]
    }
   ],
   "source": [
    "try:\n",
    "    print('hello world.')\n",
    "    print(param)\n",
    "except:\n",
    "    print('exception occurred')\n",
    "else:\n",
    "    print(\"exception doesn't occured\")"
   ]
  },
  {
   "cell_type": "code",
   "execution_count": 17,
   "metadata": {},
   "outputs": [
    {
     "name": "stdout",
     "output_type": "stream",
     "text": [
      "hello world.\n",
      "exception occurred\n",
      "do!!!\n"
     ]
    }
   ],
   "source": [
    "try:\n",
    "    print('hello world.')\n",
    "    print(param)\n",
    "except:\n",
    "    print('exception occurred')\n",
    "finally:\n",
    "    print('do!!!')"
   ]
  },
  {
   "cell_type": "code",
   "execution_count": 18,
   "metadata": {},
   "outputs": [
    {
     "name": "stdout",
     "output_type": "stream",
     "text": [
      "name 'param' is not defined\n"
     ]
    }
   ],
   "source": [
    "try:\n",
    "    print(param)\n",
    "except Exception as e:\n",
    "    print(e) # name 'param' is not defined"
   ]
  },
  {
   "cell_type": "code",
   "execution_count": 19,
   "metadata": {},
   "outputs": [
    {
     "name": "stdout",
     "output_type": "stream",
     "text": [
      "hello\n",
      "division by zero\n",
      "hello python\n"
     ]
    }
   ],
   "source": [
    "a = 5\n",
    "b = 0\n",
    "L = [1,2,3]\n",
    "print('hello')\n",
    "try :\n",
    "    c = a / b\n",
    "    \n",
    "except Exception as e:\n",
    "    print(e)\n",
    "    print('hello python')\n",
    "\n",
    "finally:\n",
    "    "
   ]
  },
  {
   "cell_type": "code",
   "execution_count": 2,
   "metadata": {},
   "outputs": [
    {
     "name": "stdout",
     "output_type": "stream",
     "text": [
      "hello\n",
      "out of indexing in list\n",
      "finally part\n",
      "good bye\n"
     ]
    }
   ],
   "source": [
    "L = [1,2,3]\n",
    "print('hello')\n",
    "\n",
    "try:\n",
    "    #print(L[2])\n",
    "    print(L[3])\n",
    "except IndexError:\n",
    "    print('out of indexing in list')\n",
    "else:\n",
    "    print('else part')\n",
    "finally:\n",
    "    print('finally part')\n",
    "print('good bye')"
   ]
  },
  {
   "cell_type": "code",
   "execution_count": null,
   "metadata": {},
   "outputs": [],
   "source": []
  }
 ],
 "metadata": {
  "kernelspec": {
   "display_name": "Python 3",
   "language": "python",
   "name": "python3"
  },
  "language_info": {
   "codemirror_mode": {
    "name": "ipython",
    "version": 3
   },
   "file_extension": ".py",
   "mimetype": "text/x-python",
   "name": "python",
   "nbconvert_exporter": "python",
   "pygments_lexer": "ipython3",
   "version": "3.6.8"
  }
 },
 "nbformat": 4,
 "nbformat_minor": 2
}

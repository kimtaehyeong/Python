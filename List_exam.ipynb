{
 "cells": [
  {
   "cell_type": "code",
   "execution_count": 41,
   "metadata": {},
   "outputs": [],
   "source": [
    "solarsys = ['태양', '수성', '금성', '지구', '화성', '목성', '지구']\n",
    "solarsys1 = ['토성', '천왕성', '해왕성']\n",
    "planet = '지구'"
   ]
  },
  {
   "cell_type": "code",
   "execution_count": 42,
   "metadata": {},
   "outputs": [
    {
     "name": "stdout",
     "output_type": "stream",
     "text": [
      "['수성', '금성', '지구']\n"
     ]
    }
   ],
   "source": [
    "#1. solarsys에서 ['수성', '금성', '지구'] 출력\n",
    "print(solarsys[1:4])"
   ]
  },
  {
   "cell_type": "code",
   "execution_count": 43,
   "metadata": {},
   "outputs": [
    {
     "name": "stdout",
     "output_type": "stream",
     "text": [
      "3\n"
     ]
    }
   ],
   "source": [
    "#2. solarsys에서 '지구'의 위치값 출력\n",
    "print(solarsys.index('지구'))"
   ]
  },
  {
   "cell_type": "code",
   "execution_count": 44,
   "metadata": {},
   "outputs": [
    {
     "name": "stdout",
     "output_type": "stream",
     "text": [
      "['태양', '수성', '금성', '지구', '해왕성', '목성', '지구']\n"
     ]
    }
   ],
   "source": [
    "#3. solarsys에서 '화성'을 '해왕성'으로 수정\n",
    "solarsys[solarsys.index('화성')]='해왕성'\n",
    "print(solarsys)\n",
    "#print(solarsys[solarsys.index('화성')]='해왕성')"
   ]
  },
  {
   "cell_type": "code",
   "execution_count": 45,
   "metadata": {},
   "outputs": [
    {
     "name": "stdout",
     "output_type": "stream",
     "text": [
      "['태양', '수성', '명왕성', '금성', '지구', '해왕성', '목성', '지구']\n"
     ]
    }
   ],
   "source": [
    "#4. solarsys에서 '수성'자리에 '명왕성'을 삽입\n",
    "solarsys.insert(solarsys.index('수성')+1, '명왕성')\n",
    "print(solarsys)"
   ]
  },
  {
   "cell_type": "code",
   "execution_count": 46,
   "metadata": {},
   "outputs": [
    {
     "name": "stdout",
     "output_type": "stream",
     "text": [
      "['태양', '수성', '명왕성', '금성', '지구', '해왕성', '목성', '지구', '토성']\n"
     ]
    }
   ],
   "source": [
    "#5. solarsys에 맨 끝에 첨가\n",
    "solarsys.append('토성')\n",
    "print(solarsys)"
   ]
  },
  {
   "cell_type": "code",
   "execution_count": 47,
   "metadata": {},
   "outputs": [
    {
     "name": "stdout",
     "output_type": "stream",
     "text": [
      "토성\n"
     ]
    }
   ],
   "source": [
    "#6. solarsys에 맨 끝 요소를 제거하고 리턴\n",
    "print(solarsys.pop())"
   ]
  },
  {
   "cell_type": "code",
   "execution_count": 48,
   "metadata": {},
   "outputs": [
    {
     "name": "stdout",
     "output_type": "stream",
     "text": [
      "['태양', '수성', '명왕성', '지구', '해왕성', '목성', '지구']\n"
     ]
    }
   ],
   "source": [
    "#7. solarsys에 '금성'을 제거\n",
    "solarsys.remove('금성')\n",
    "print(solarsys)"
   ]
  },
  {
   "cell_type": "code",
   "execution_count": 49,
   "metadata": {},
   "outputs": [
    {
     "name": "stdout",
     "output_type": "stream",
     "text": [
      "['태양', '해왕성', '목성', '지구']\n"
     ]
    }
   ],
   "source": [
    "#8.solarsys에서 1번째에서 3번째까지 삭제\n",
    "del solarsys[1:4]\n",
    "print(solarsys)"
   ]
  },
  {
   "cell_type": "code",
   "execution_count": 50,
   "metadata": {},
   "outputs": [
    {
     "name": "stdout",
     "output_type": "stream",
     "text": [
      "목성\n"
     ]
    }
   ],
   "source": [
    "#9. solarsys에서 인덱스값 2번 요소를 제거\n",
    "print(solarsys.pop(2))"
   ]
  },
  {
   "cell_type": "code",
   "execution_count": 51,
   "metadata": {},
   "outputs": [
    {
     "name": "stdout",
     "output_type": "stream",
     "text": [
      "['태양', '해왕성', '지구', '토성', '천왕성', '해왕성']\n"
     ]
    }
   ],
   "source": [
    "#10. solarsys와 solarsys1을 합하시오\n",
    "solarsys.extend(solarsys1)\n",
    "print(solarsys)"
   ]
  },
  {
   "cell_type": "code",
   "execution_count": 52,
   "metadata": {},
   "outputs": [
    {
     "name": "stdout",
     "output_type": "stream",
     "text": [
      "['지구', '천왕성', '태양', '토성', '해왕성', '해왕성']\n"
     ]
    }
   ],
   "source": [
    "#11. solarsys를 오름차순으로 정렬하세요.\n",
    "print(sorted(solarsys))"
   ]
  },
  {
   "cell_type": "code",
   "execution_count": 53,
   "metadata": {},
   "outputs": [
    {
     "name": "stdout",
     "output_type": "stream",
     "text": [
      "['해왕성', '해왕성', '토성', '태양', '천왕성', '지구']\n"
     ]
    }
   ],
   "source": [
    "#12. solarsys를 내림차순으로 정렬하세요.\n",
    "print(sorted(solarsys, reverse=True))"
   ]
  },
  {
   "cell_type": "code",
   "execution_count": 59,
   "metadata": {},
   "outputs": [
    {
     "name": "stdout",
     "output_type": "stream",
     "text": [
      "['태양', '해왕성', '지구', '토성', '천왕성', '해왕성']\n"
     ]
    }
   ],
   "source": [
    "#13. solarsys의 원소의 순서를 바꾸세요\n",
    "solarsys.reverse()\n",
    "print(solarsys)"
   ]
  },
  {
   "cell_type": "code",
   "execution_count": 60,
   "metadata": {},
   "outputs": [
    {
     "data": {
      "text/plain": [
       "False"
      ]
     },
     "execution_count": 60,
     "metadata": {},
     "output_type": "execute_result"
    }
   ],
   "source": [
    "#14. solarsys에 '만리장성'이 있는지 확인하세요\n",
    "'만리장성' in solarsys"
   ]
  },
  {
   "cell_type": "code",
   "execution_count": 61,
   "metadata": {},
   "outputs": [
    {
     "name": "stdout",
     "output_type": "stream",
     "text": [
      "['태양', '해왕성', '지구', '토성', '천왕성', '해왕성', '태양', '해왕성', '지구', '토성', '천왕성', '해왕성', '태양', '해왕성', '지구', '토성', '천왕성', '해왕성']\n"
     ]
    }
   ],
   "source": [
    "#15. solarsys를 3번 반복하세요\n",
    "print(solarsys*3)"
   ]
  },
  {
   "cell_type": "code",
   "execution_count": 62,
   "metadata": {},
   "outputs": [
    {
     "name": "stdout",
     "output_type": "stream",
     "text": [
      "6\n"
     ]
    }
   ],
   "source": [
    "#16. solarsys 길이를 리턴하세요.\n",
    "print(len(solarsys))"
   ]
  },
  {
   "cell_type": "code",
   "execution_count": 63,
   "metadata": {},
   "outputs": [
    {
     "name": "stdout",
     "output_type": "stream",
     "text": [
      "1\n"
     ]
    }
   ],
   "source": [
    "#17. solarsys에서 '지구'의 갯수를 출력하세요\n",
    "print(solarsys.count('지구'))"
   ]
  },
  {
   "cell_type": "code",
   "execution_count": 66,
   "metadata": {},
   "outputs": [
    {
     "name": "stdout",
     "output_type": "stream",
     "text": [
      "[]\n"
     ]
    }
   ],
   "source": [
    "#18. solarsys의 모든 원소를 지워주세요.\n",
    "solarsys.clear()\n",
    "print(solarsys)"
   ]
  },
  {
   "cell_type": "code",
   "execution_count": 67,
   "metadata": {},
   "outputs": [],
   "source": [
    "#19. solarsys의 리스트를 삭제하세요\n",
    "del solarsys"
   ]
  },
  {
   "cell_type": "code",
   "execution_count": null,
   "metadata": {},
   "outputs": [],
   "source": []
  }
 ],
 "metadata": {
  "kernelspec": {
   "display_name": "Python 3",
   "language": "python",
   "name": "python3"
  },
  "language_info": {
   "codemirror_mode": {
    "name": "ipython",
    "version": 3
   },
   "file_extension": ".py",
   "mimetype": "text/x-python",
   "name": "python",
   "nbconvert_exporter": "python",
   "pygments_lexer": "ipython3",
   "version": "3.6.8"
  }
 },
 "nbformat": 4,
 "nbformat_minor": 2
}

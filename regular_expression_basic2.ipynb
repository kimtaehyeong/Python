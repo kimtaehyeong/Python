{
 "cells": [
  {
   "cell_type": "markdown",
   "metadata": {},
   "source": [
    "# 정규식 축약표현"
   ]
  },
  {
   "cell_type": "code",
   "execution_count": 1,
   "metadata": {
    "collapsed": false
   },
   "outputs": [
    {
     "name": "stdout",
     "output_type": "stream",
     "text": [
      "<_sre.SRE_Match object; span=(4, 9), match='14000'>\n"
     ]
    }
   ],
   "source": [
    "import re\n",
    "print( re.search(\"\\d+\",\"치킨이 14000원입니다.\") )  #숫자를 1개 이상 포함하는 문자열\n",
    "                                                # <_sre.SRE_Match object; span=(4, 9), match='14000'>"
   ]
  },
  {
   "cell_type": "code",
   "execution_count": 2,
   "metadata": {},
   "outputs": [
    {
     "name": "stdout",
     "output_type": "stream",
     "text": [
      "4\n",
      "9\n",
      "(4, 9)\n",
      "14000\n"
     ]
    }
   ],
   "source": [
    "result =  re.search(\"\\d+\",\"치킨이 14000원입니다.\") #Match 객체를 리턴 \n",
    "start = result.start()   \n",
    "print(start) # 4\n",
    "end = result.end()\n",
    "print (end)  # 9\n",
    "print ( result.span() )  #(4, 9)\n",
    "print ( result.group() ) # 14000 "
   ]
  },
  {
   "cell_type": "code",
   "execution_count": 3,
   "metadata": {},
   "outputs": [
    {
     "name": "stdout",
     "output_type": "stream",
     "text": [
      "['2222', '12', '12']\n",
      "2222\n",
      "12\n",
      "12\n"
     ]
    }
   ],
   "source": [
    "aa = re.findall(\"\\d+\" , \"미카이의 생일은 2222년 12월 12일 입니다.\")   \n",
    "print (aa) # ['2222', '12', '12']\n",
    "for i in aa :\n",
    "    print(i) # 2222, 12, 12"
   ]
  },
  {
   "cell_type": "code",
   "execution_count": 8,
   "metadata": {},
   "outputs": [
    {
     "name": "stdout",
     "output_type": "stream",
     "text": [
      "My\n",
      "0\n",
      "2\n",
      "(0, 2)\n",
      "birthday\n",
      "3\n",
      "11\n",
      "(3, 11)\n",
      "is\n",
      "12\n",
      "14\n",
      "(12, 14)\n"
     ]
    }
   ],
   "source": [
    "r = re.compile(\"[a-zA-Z]+\") \n",
    "result = r.finditer(\"My birthday is 1999 01 11. \") \n",
    "for i in result :\n",
    "    print (i.group()) \n",
    "    print(i.start()) \n",
    "    print(i.end()) \n",
    "    print(i.span())"
   ]
  },
  {
   "cell_type": "code",
   "execution_count": 9,
   "metadata": {},
   "outputs": [
    {
     "name": "stdout",
     "output_type": "stream",
     "text": [
      "['Apple orange ', ' graph cherry']\n"
     ]
    }
   ],
   "source": [
    "print ( re.split(\"[:]+\" ,\"Apple orange : graph cherry\") )  # : 문자열을 구분자로 문자열 분리"
   ]
  },
  {
   "cell_type": "code",
   "execution_count": 13,
   "metadata": {
    "collapsed": false
   },
   "outputs": [
    {
     "name": "stdout",
     "output_type": "stream",
     "text": [
      "['Apple', 'orange', 'graph', 'cherry']\n"
     ]
    }
   ],
   "source": [
    "print ( re.split(\"[: ]+\" ,\"Apple orange : graph cherry\") ) "
   ]
  },
  {
   "cell_type": "code",
   "execution_count": 12,
   "metadata": {},
   "outputs": [
    {
     "name": "stdout",
     "output_type": "stream",
     "text": [
      "1111**2222\n"
     ]
    }
   ],
   "source": [
    "print (re.sub(\"-\" ,\"**\" , \"1111-2222\")) # 문자열 교체 "
   ]
  },
  {
   "cell_type": "code",
   "execution_count": null,
   "metadata": {},
   "outputs": [],
   "source": []
  }
 ],
 "metadata": {
  "kernelspec": {
   "display_name": "Python 3",
   "language": "python",
   "name": "python3"
  },
  "language_info": {
   "codemirror_mode": {
    "name": "ipython",
    "version": 3
   },
   "file_extension": ".py",
   "mimetype": "text/x-python",
   "name": "python",
   "nbconvert_exporter": "python",
   "pygments_lexer": "ipython3",
   "version": "3.6.7"
  }
 },
 "nbformat": 4,
 "nbformat_minor": 2
}

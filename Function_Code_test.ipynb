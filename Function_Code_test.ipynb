{
 "cells": [
  {
   "cell_type": "code",
   "execution_count": 12,
   "metadata": {},
   "outputs": [
    {
     "data": {
      "text/plain": [
       "1"
      ]
     },
     "execution_count": 12,
     "metadata": {},
     "output_type": "execute_result"
    }
   ],
   "source": [
    "# 절대값을 리턴하는 함수\n",
    "\n",
    "def exfunc(num):\n",
    "    if num < 0:\n",
    "        num = -num\n",
    "    return num\n",
    "   \n",
    "exfunc(-1)\n"
   ]
  },
  {
   "cell_type": "code",
   "execution_count": 13,
   "metadata": {},
   "outputs": [
    {
     "data": {
      "text/plain": [
       "78.5"
      ]
     },
     "execution_count": 13,
     "metadata": {},
     "output_type": "execute_result"
    }
   ],
   "source": [
    "# 반지름을 받아서 원의 면적을 리턴하는 함수\n",
    "\n",
    "def circle(num):\n",
    "    num_A = 3.14*(num**2)\n",
    "    return num_A\n",
    "\n",
    "circle(5)\n"
   ]
  },
  {
   "cell_type": "code",
   "execution_count": 20,
   "metadata": {},
   "outputs": [
    {
     "name": "stdout",
     "output_type": "stream",
     "text": [
      "******************************\n",
      "Name: Sop\n",
      "Address: 성남시 중원구\n",
      "E-mail: dizyobu65@naver.com\n",
      "******************************\n"
     ]
    },
    {
     "data": {
      "text/plain": [
       "<function __main__.namecard>"
      ]
     },
     "execution_count": 20,
     "metadata": {},
     "output_type": "execute_result"
    }
   ],
   "source": [
    "# 이름, 주소, 이메일을 받고 명함을 출력하는 함수\n",
    "\n",
    "def namecard(name, add, email):\n",
    "    print('*'*30)\n",
    "    print('Name:', name)\n",
    "    print('Address:', add)\n",
    "    print('E-mail:', email)\n",
    "    print('*'*30)\n",
    "    \n",
    "    return namecard\n",
    "    \n",
    "namecard('Sop','성남시 중원구', 'dizyobu65@naver.com')\n"
   ]
  },
  {
   "cell_type": "code",
   "execution_count": 24,
   "metadata": {},
   "outputs": [
    {
     "data": {
      "text/plain": [
       "120"
      ]
     },
     "execution_count": 24,
     "metadata": {},
     "output_type": "execute_result"
    }
   ],
   "source": [
    "# 일반매개변수('sum','mul')와 가변매개변수를 받고,\n",
    "# 'sum'이면 가변매개변수의 합, 'mul'이면 가변매개변수의 곱을 리턴\n",
    "\n",
    "def sum_mul(choice, *args):\n",
    "    if choice == 'sum':\n",
    "        return sum(args)\n",
    "    else:\n",
    "        result = 1\n",
    "        for i in args:\n",
    "            result *= i\n",
    "        return result\n",
    "    \n",
    "sum_mul('mul', 1,2,3,4,5)  \n",
    "    "
   ]
  },
  {
   "cell_type": "code",
   "execution_count": 25,
   "metadata": {},
   "outputs": [
    {
     "name": "stdout",
     "output_type": "stream",
     "text": [
      "good morning Everyone\n",
      "good morning Mr.Park\n",
      "안녕하세요 Everyone\n",
      "안녕하세요 김선생님\n"
     ]
    }
   ],
   "source": [
    "# 기본값이있는 함수\n",
    "\n",
    "def report(message, who='Everyone'):\n",
    "    print(message, who)\n",
    "\n",
    "report('good morning')\n",
    "report('good morning', 'Mr.Park')\n",
    "\n",
    "report('안녕하세요')\n",
    "report('안녕하세요', '김선생님')       \n"
   ]
  },
  {
   "cell_type": "code",
   "execution_count": 35,
   "metadata": {},
   "outputs": [
    {
     "name": "stdout",
     "output_type": "stream",
     "text": [
      "[2, 4]\n"
     ]
    }
   ],
   "source": [
    "# 여러개의 매개변수를 받아서(가변매개변수로 값을 받아서) 짝수만 출력하는 함수\n",
    "\n",
    "def numbers(*args):\n",
    "    even_list = []\n",
    "    for i in args:\n",
    "        if i % 2 == 0:\n",
    "            even_list.append(i)\n",
    "    return(even_list)\n",
    "\n",
    "print(numbers(1,2,3,4,5))\n"
   ]
  },
  {
   "cell_type": "code",
   "execution_count": 53,
   "metadata": {},
   "outputs": [
    {
     "name": "stdout",
     "output_type": "stream",
     "text": [
      "Max: 12   Min: -1\n"
     ]
    }
   ],
   "source": [
    "# 가변 매개변수를 받고 최대값과 최소값을 출력하는 함수\n",
    "\n",
    "'''\n",
    "def minmax(*args) :\n",
    "    nMax = nMin = args[0]\n",
    "    for i in args:\n",
    "        if i>nMax:\n",
    "            nMax=i\n",
    "        elif i<nMin:\n",
    "            nMin=i\n",
    "    print('Max: ',nMax,'  Min: ',nMin)\n",
    "\n",
    "numbers(10,1,0,5,12,-1,3,7,9)\n",
    "'''\n",
    "\n",
    "def numbers(*args):\n",
    "    num_max = max(args)\n",
    "    num_min = min(args)\n",
    "    \n",
    "    print('Max:',num_max,'  Min:',num_min)\n",
    "\n",
    "numbers(10,1,0,5,12,-1,3,7,9)\n"
   ]
  },
  {
   "cell_type": "code",
   "execution_count": 63,
   "metadata": {},
   "outputs": [
    {
     "data": {
      "text/plain": [
       "(105, 60)"
      ]
     },
     "execution_count": 63,
     "metadata": {},
     "output_type": "execute_result"
    }
   ],
   "source": [
    "# 가변 매개함수와 kw 매개변수를 받은 후 가변매개변수의 합과\n",
    "\n",
    "def varSum(*args, **kw):\n",
    "    args_sum=sum(args)\n",
    "    kw_sum=sum(kw.values())\n",
    "    return(args_sum, kw_sum)\n",
    "\n",
    "varSum(100,5,a=10,b=20,c=30)\n",
    "\n"
   ]
  },
  {
   "cell_type": "code",
   "execution_count": 87,
   "metadata": {},
   "outputs": [
    {
     "data": {
      "text/plain": [
       "[('e', 0), ('b', 2), ('a', 5), ('c', 7), ('d', 10)]"
      ]
     },
     "execution_count": 87,
     "metadata": {},
     "output_type": "execute_result"
    }
   ],
   "source": [
    "# kw 매개변수를 받은 후 kw값 올림차순으로 정렬하여 리턴\n",
    "\n",
    "def kwsort(**kw):\n",
    "    #return(sorted(kw.values())) # 숫자만 정렬\n",
    "    #return(sorted(kw.items())) # a,b,c 순으로 정렬\n",
    "    return(sorted(kw.items(), key=lambda x:x[1])) # 0,1,2, 순으로 정렬 ★★★★★ \n",
    "    # kw.items()를 이용해서 쌍으로 출력, sorted(kw.items())만 하면 key중심 정렬이 됨\n",
    "    # sorted함수의 option을 이용\n",
    "    # lambda함수를 이용, x:x[1]하면 x의 두번째 인자를 중심으로 쓰겠다는 말 \n",
    "    #return(sorted(list(kw.items()))) # a,b,c 순으로 정렬\n",
    "\n",
    "kwsort(a=5,b=2,c=7,d=10,e=0)\n"
   ]
  }
 ],
 "metadata": {
  "anaconda-cloud": {},
  "kernelspec": {
   "display_name": "Python 3",
   "language": "python",
   "name": "python3"
  },
  "language_info": {
   "codemirror_mode": {
    "name": "ipython",
    "version": 3
   },
   "file_extension": ".py",
   "mimetype": "text/x-python",
   "name": "python",
   "nbconvert_exporter": "python",
   "pygments_lexer": "ipython3",
   "version": "3.6.8"
  }
 },
 "nbformat": 4,
 "nbformat_minor": 1
}

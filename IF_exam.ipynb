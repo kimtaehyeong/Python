{
 "cells": [
  {
   "cell_type": "code",
   "execution_count": 2,
   "metadata": {},
   "outputs": [
    {
     "name": "stdout",
     "output_type": "stream",
     "text": [
      "Password를 입력하세요 :1234\n",
      "환영합니다\n"
     ]
    }
   ],
   "source": [
    "# password = 1234\n",
    "password = 1234\n",
    "my_password = int(input(\"Password를 입력하세요 :\"))\n",
    "if my_password == password:\n",
    "    print(\"환영합니다\")\n",
    "else:\n",
    "    print(\"죄송합니다 패스워드가 틀립니다.\")"
   ]
  },
  {
   "cell_type": "code",
   "execution_count": 4,
   "metadata": {},
   "outputs": [
    {
     "name": "stdout",
     "output_type": "stream",
     "text": [
      "x 값을 입력하시오 :20\n",
      "y 값을 입력하시오 :40\n",
      "작다\n"
     ]
    }
   ],
   "source": [
    "# x,y 두 수를 받은 다음 x>y작을때 작다/ x<y 크다 같다\n",
    "#x, y = map(int, input().split(' '))\n",
    "x = int(input('x 값을 입력하시오 :'))\n",
    "y = int(input('y 값을 입력하시오 :'))\n",
    "if x==y:\n",
    "    print('같다')\n",
    "elif x>y:\n",
    "    print('크다')\n",
    "else:\n",
    "    print('작다')"
   ]
  },
  {
   "cell_type": "code",
   "execution_count": 5,
   "metadata": {},
   "outputs": [
    {
     "name": "stdout",
     "output_type": "stream",
     "text": [
      "120\n",
      "점수를 제대로 입력하세요 구라 ㄴㄴ\n"
     ]
    }
   ],
   "source": [
    "# 학점 출력\n",
    "score = int(input('학점을 입력하세요 :'))\n",
    "\n",
    "if score >= 90 and score <= 100:\n",
    "    print(\"A학점입니다.\")\n",
    "elif score>=80 and score < 90:\n",
    "    print('B학점입니다.')\n",
    "elif score>=70 and score < 80:\n",
    "    print('C학점입니다.')\n",
    "elif score>=60 and score < 70:\n",
    "    print('D학점입니다.')\n",
    "elif score < 60:\n",
    "    print('F학점입니다.')\n",
    "else:\n",
    "    print(\"점수를 제대로 입력하세요 구라 ㄴㄴ\")"
   ]
  },
  {
   "cell_type": "code",
   "execution_count": null,
   "metadata": {},
   "outputs": [],
   "source": []
  },
  {
   "cell_type": "code",
   "execution_count": 14,
   "metadata": {},
   "outputs": [
    {
     "name": "stdout",
     "output_type": "stream",
     "text": [
      "Mary\n",
      "12\n"
     ]
    }
   ],
   "source": [
    "names = {'Mary':12, 'Jane':25, 'Tom':20}\n",
    "\n",
    "# 이름을 받고, names에 없으면 '0000' 값으로 names 추가\n",
    "# 있다면, 값을 출력\n",
    "\n",
    "name = input()\n",
    "\n",
    "if name in names:\n",
    "    print(names[name])\n",
    "else:\n",
    "    names[name] = '0000'\n",
    "    print('추가완료 최종 names의 dict는 :',names)"
   ]
  },
  {
   "cell_type": "code",
   "execution_count": null,
   "metadata": {},
   "outputs": [],
   "source": []
  },
  {
   "cell_type": "code",
   "execution_count": 9,
   "metadata": {},
   "outputs": [
    {
     "name": "stdout",
     "output_type": "stream",
     "text": [
      "가위 바위 보 입력 :가위\n",
      "가위 바위 보 입력 :가위\n",
      "비겼습니다.\n"
     ]
    }
   ],
   "source": [
    "# 가위, 바위, 보 게임\n",
    "# mine, yours - 내가 이기면 이겼습니다, 졌으면 졌습니다 출력\n",
    "\n",
    "mine = input('mine -> 가위 바위 보 입력 :')\n",
    "yours = input('yours -> 가위 바위 보 입력 :')\n",
    "\n",
    "if mine in ['가위','바위','보'] and yours in ['가위','바위','보']:\n",
    "    if mine == '가위':\n",
    "        if yours == '보':\n",
    "            print('이겼습니다.')\n",
    "        elif yours == '가위':\n",
    "            print(\"비겼습니다.\")\n",
    "        else:\n",
    "            print(\"졌습니다.\")\n",
    "    elif mine == '바위':\n",
    "        if yours == '가위':\n",
    "            print('이겼습니다.')\n",
    "        elif yours == '바위':\n",
    "            print(\"비겼습니다.\")\n",
    "        else:\n",
    "            print(\"졌습니다.\")\n",
    "    elif mine == '보':\n",
    "        if yours == '가위':\n",
    "            print('이겼습니다.')\n",
    "        elif yours == '보':\n",
    "            print(\"비겼습니다.\")\n",
    "        else:\n",
    "            print(\"졌습니다.\")\n",
    "        \n",
    "else:\n",
    "    print('값을 제대로 입력하지 않았습니다.')"
   ]
  },
  {
   "cell_type": "code",
   "execution_count": null,
   "metadata": {},
   "outputs": [],
   "source": []
  }
 ],
 "metadata": {
  "kernelspec": {
   "display_name": "Python 3",
   "language": "python",
   "name": "python3"
  },
  "language_info": {
   "codemirror_mode": {
    "name": "ipython",
    "version": 3
   },
   "file_extension": ".py",
   "mimetype": "text/x-python",
   "name": "python",
   "nbconvert_exporter": "python",
   "pygments_lexer": "ipython3",
   "version": "3.6.8"
  }
 },
 "nbformat": 4,
 "nbformat_minor": 2
}
